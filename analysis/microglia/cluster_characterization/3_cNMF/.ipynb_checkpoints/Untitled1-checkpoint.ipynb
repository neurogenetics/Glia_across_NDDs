{
 "cells": [
  {
   "cell_type": "code",
   "execution_count": 1,
   "id": "68c9a194-6d9e-4599-9e0f-13c7d69f983a",
   "metadata": {},
   "outputs": [],
   "source": [
    "import os\n",
    "import pandas as pd\n",
    "import numpy as np\n",
    "from scipy.io import mmread\n",
    "import scipy.sparse as sp\n",
    "import matplotlib.pyplot as plt\n",
    "from IPython.display import Image\n",
    "import scanpy as sc\n",
    "from cnmf import cNMF, Preprocess\n",
    "import anndata\n",
    "import seaborn as sns"
   ]
  },
  {
   "cell_type": "code",
   "execution_count": 2,
   "id": "2d4cea45-4b1f-4de8-8204-ebe20e5913f9",
   "metadata": {},
   "outputs": [],
   "source": [
    "adata = sc.read_h5ad(\"/data/ADRD/glia_across_NDDs/analysis/microglia/cluster_characterization/cNMF/microglia_cNMF.h5ad\")"
   ]
  },
  {
   "cell_type": "code",
   "execution_count": null,
   "id": "3893e80c-e864-465f-82f4-538b61c21661",
   "metadata": {},
   "outputs": [],
   "source": []
  }
 ],
 "metadata": {
  "kernelspec": {
   "display_name": "python/3.10",
   "language": "python",
   "name": "py3.10"
  },
  "language_info": {
   "codemirror_mode": {
    "name": "ipython",
    "version": 3
   },
   "file_extension": ".py",
   "mimetype": "text/x-python",
   "name": "python",
   "nbconvert_exporter": "python",
   "pygments_lexer": "ipython3",
   "version": "3.10.8"
  }
 },
 "nbformat": 4,
 "nbformat_minor": 5
}
