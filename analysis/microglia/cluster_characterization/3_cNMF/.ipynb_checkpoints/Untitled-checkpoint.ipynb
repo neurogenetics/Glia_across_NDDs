{
 "cells": [
  {
   "cell_type": "code",
   "execution_count": null,
   "id": "c48934ed-a444-43df-a795-dffff51bf636",
   "metadata": {},
   "outputs": [],
   "source": [
    "import os\n",
    "import pandas as pd\n",
    "import numpy as np\n",
    "from scipy.io import mmread\n",
    "import scipy.sparse as sp\n",
    "import matplotlib.pyplot as plt\n",
    "from IPython.display import Image\n",
    "import scanpy as sc\n",
    "from cnmf import cNMF, Preprocess\n",
    "import anndata\n",
    "import seaborn as sns"
   ]
  },
  {
   "cell_type": "code",
   "execution_count": null,
   "id": "817f524c-ef85-4599-a3c0-e8ceb45e3550",
   "metadata": {},
   "outputs": [],
   "source": [
    "adata = sc.read_h5ad(\"/data/ADRD/glia_across_NDDs/analysis/microglia//cleaned_objects/EC_ExNs_cleaned_NAMED.h5ad\")"
   ]
  }
 ],
 "metadata": {
  "kernelspec": {
   "display_name": "python/3.12",
   "language": "python",
   "name": "py3.12"
  },
  "language_info": {
   "codemirror_mode": {
    "name": "ipython",
    "version": 3
   },
   "file_extension": ".py",
   "mimetype": "text/x-python",
   "name": "python",
   "nbconvert_exporter": "python",
   "pygments_lexer": "ipython3",
   "version": "3.12.8"
  }
 },
 "nbformat": 4,
 "nbformat_minor": 5
}
