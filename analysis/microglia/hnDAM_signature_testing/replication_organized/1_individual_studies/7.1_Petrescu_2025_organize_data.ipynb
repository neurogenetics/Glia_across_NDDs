{
 "cells": [
  {
   "cell_type": "code",
   "execution_count": 1,
   "id": "e551b665-a103-42cd-93ec-7c692846a250",
   "metadata": {},
   "outputs": [],
   "source": [
    "import scanpy as sc"
   ]
  },
  {
   "cell_type": "code",
   "execution_count": 2,
   "id": "9f7cf3d7-0053-4073-a518-2f4be4005928",
   "metadata": {},
   "outputs": [],
   "source": [
    "adata = sc.read_h5ad('/data/ADRD/glia_across_NDDs/analysis/microglia/replication/Petrescu_2025/data/GSE290359_BA44_BA46_COUNTS.h5ad')"
   ]
  },
  {
   "cell_type": "code",
   "execution_count": 3,
   "id": "26ea0535-1225-4373-a3a9-cd13b1139061",
   "metadata": {},
   "outputs": [
    {
     "data": {
      "text/plain": [
       "AnnData object with n_obs × n_vars = 165884 × 36601\n",
       "    obs: 'n_counts', 'mt_counts', 'chrY_counts', 'n_peak_counts', 'mt_fraction', 'library', 'library_name', '10x_cell_barcode', 'n_genes', 'Sample ID', 'Edinburgh ID', 'Sex', 'Age', 'Disease?', 'Classifcation', 'Language impairment', 'Verbal fluency impairment', 'Executive impairment', 'Language (CUTOFF=26)', 'Verbal_Fluency (CUTOFF=14)', 'Executive (CUTOFF=33)', 'ALS_specific score (CUTOFF=77)', 'Memory (CUTOFF=13)', 'Visuospatial (CUTOFF=10)', 'ALS_non-specific score (CUTOFF=24)', 'ECAS_Total Score (CUTOFF=105)', 'Behavioural disinhibiton', 'Apathy or Inertia', 'Loss of Sympathy or Empathy', 'Perserveration', 'Hyperorality or Altered Food', 'Total behaviour', 'Mutation', 'Visium (BA46)', 'ECAS date (M/D/Y)', 'Date of Death (M/D/Y)', 'ECAS to death interval (in days)', 'Comments', 'Tissue', 'Cell_Type', 'Cell_Subtype', 'good_cell'\n",
       "    var: 'id', 'genome', 'interval', 'feature_type', 'chrom', 'start', 'end', 'common_name', 'n_counts'"
      ]
     },
     "execution_count": 3,
     "metadata": {},
     "output_type": "execute_result"
    }
   ],
   "source": [
    "adata"
   ]
  },
  {
   "cell_type": "code",
   "execution_count": 7,
   "id": "205775a9-8f71-4ecd-b037-576d006ad982",
   "metadata": {},
   "outputs": [
    {
     "name": "stdout",
     "output_type": "stream",
     "text": [
      "['Oligodendrocyte', 'Excitatory neuron', 'Microglia', 'Oligodendrocyte Producing Cell', 'Low-Quality', 'Doublet', 'Astrocyte', 'Inhibitory neuron', 'Endothelial']\n",
      "Categories (9, object): ['Astrocyte', 'Doublet', 'Endothelial', 'Excitatory neuron', ..., 'Low-Quality', 'Microglia', 'Oligodendrocyte', 'Oligodendrocyte Producing Cell']\n"
     ]
    }
   ],
   "source": [
    "print(adata.obs['Cell_Type'].unique())"
   ]
  },
  {
   "cell_type": "code",
   "execution_count": 10,
   "id": "0b749783-a0c4-44db-9865-364a9d64fd47",
   "metadata": {},
   "outputs": [],
   "source": [
    "adata_microglia = adata[adata.obs['Cell_Type'] == 'Microglia'].copy()"
   ]
  },
  {
   "cell_type": "code",
   "execution_count": 11,
   "id": "492f6339-6816-4b1c-975e-278be7395a46",
   "metadata": {},
   "outputs": [
    {
     "data": {
      "text/plain": [
       "AnnData object with n_obs × n_vars = 9263 × 36601\n",
       "    obs: 'n_counts', 'mt_counts', 'chrY_counts', 'n_peak_counts', 'mt_fraction', 'library', 'library_name', '10x_cell_barcode', 'n_genes', 'Sample ID', 'Edinburgh ID', 'Sex', 'Age', 'Disease?', 'Classifcation', 'Language impairment', 'Verbal fluency impairment', 'Executive impairment', 'Language (CUTOFF=26)', 'Verbal_Fluency (CUTOFF=14)', 'Executive (CUTOFF=33)', 'ALS_specific score (CUTOFF=77)', 'Memory (CUTOFF=13)', 'Visuospatial (CUTOFF=10)', 'ALS_non-specific score (CUTOFF=24)', 'ECAS_Total Score (CUTOFF=105)', 'Behavioural disinhibiton', 'Apathy or Inertia', 'Loss of Sympathy or Empathy', 'Perserveration', 'Hyperorality or Altered Food', 'Total behaviour', 'Mutation', 'Visium (BA46)', 'ECAS date (M/D/Y)', 'Date of Death (M/D/Y)', 'ECAS to death interval (in days)', 'Comments', 'Tissue', 'Cell_Type', 'Cell_Subtype', 'good_cell'\n",
       "    var: 'id', 'genome', 'interval', 'feature_type', 'chrom', 'start', 'end', 'common_name', 'n_counts'"
      ]
     },
     "execution_count": 11,
     "metadata": {},
     "output_type": "execute_result"
    }
   ],
   "source": [
    "adata_microglia"
   ]
  },
  {
   "cell_type": "code",
   "execution_count": 12,
   "id": "f1d401fa-110d-4166-8126-cf2fb6a2a05c",
   "metadata": {},
   "outputs": [
    {
     "name": "stdout",
     "output_type": "stream",
     "text": [
      "['CGND-HRA-02746', 'CGND-HRA-02757', 'CGND-HRA-03646', 'CGND-HRA-02750', 'CGND-HRA-02959', ..., 'CGND-HRA-02985', 'CGND-HRA-02745', 'CGND-HRA-03638', 'CGND-HRA-03752', 'CGND-HRA-02978']\n",
      "Length: 48\n",
      "Categories (48, object): ['CGND-HRA-02745', 'CGND-HRA-02746', 'CGND-HRA-02747', 'CGND-HRA-02749', ..., 'CGND-HRA-03760', 'CGND-HRA-03763', 'U54-HRA-058', 'U54-HRA-059']\n"
     ]
    }
   ],
   "source": [
    "print(adata.obs['Sample ID'].unique())"
   ]
  },
  {
   "cell_type": "code",
   "execution_count": 13,
   "id": "c8b82c60-3092-411d-9687-4c310802ebf5",
   "metadata": {},
   "outputs": [],
   "source": [
    "adata_microglia.write('/data/ADRD/glia_across_NDDs/analysis/microglia/replication/Petrescu_2025/microglia_subset.h5ad')"
   ]
  }
 ],
 "metadata": {
  "kernelspec": {
   "display_name": "python/3.12",
   "language": "python",
   "name": "py3.12"
  },
  "language_info": {
   "codemirror_mode": {
    "name": "ipython",
    "version": 3
   },
   "file_extension": ".py",
   "mimetype": "text/x-python",
   "name": "python",
   "nbconvert_exporter": "python",
   "pygments_lexer": "ipython3",
   "version": "3.12.8"
  }
 },
 "nbformat": 4,
 "nbformat_minor": 5
}
